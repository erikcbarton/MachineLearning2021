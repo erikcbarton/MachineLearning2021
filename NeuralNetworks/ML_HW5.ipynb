{
  "nbformat": 4,
  "nbformat_minor": 0,
  "metadata": {
    "colab": {
      "name": "ML_HW5.ipynb",
      "provenance": [],
      "collapsed_sections": []
    },
    "kernelspec": {
      "name": "python3",
      "display_name": "Python 3"
    },
    "language_info": {
      "name": "python"
    },
    "accelerator": "GPU"
  },
  "cells": [
    {
      "cell_type": "markdown",
      "metadata": {
        "id": "iSdOsY4kEeNf"
      },
      "source": [
        "Colab notebook for ML HW5\n",
        "\n",
        "Erik Barton"
      ]
    },
    {
      "cell_type": "code",
      "metadata": {
        "id": "zQz9dmdkEW-a"
      },
      "source": [
        "import tensorflow as tf"
      ],
      "execution_count": null,
      "outputs": []
    },
    {
      "cell_type": "code",
      "metadata": {
        "colab": {
          "base_uri": "https://localhost:8080/"
        },
        "id": "aP61ODg5EmqD",
        "outputId": "695a8204-4286-49ac-a45c-795d085f226d"
      },
      "source": [
        "device_name = tf.test.gpu_device_name()\n",
        "if device_name != '/device:GPU:0':\n",
        "  raise SystemError('GPU device not found')\n",
        "print('Found GPU at: {}'.format(device_name))"
      ],
      "execution_count": null,
      "outputs": [
        {
          "output_type": "stream",
          "name": "stdout",
          "text": [
            "Found GPU at: /device:GPU:0\n"
          ]
        }
      ]
    },
    {
      "cell_type": "code",
      "metadata": {
        "id": "4LPrtZsVE-Vc"
      },
      "source": [
        "# RL 3 ############################################\n",
        "RL_3_5 = tf.keras.models.Sequential([\n",
        "  tf.keras.layers.Dense(4, activation='relu', kernel_initializer='glorot_uniform'),\n",
        "  tf.keras.layers.Dense(4, activation='relu', kernel_initializer='glorot_uniform'),\n",
        "  tf.keras.layers.Dense(1),\n",
        "])\n",
        "\n",
        "RL_3_10 = tf.keras.models.Sequential([\n",
        "  tf.keras.layers.Dense(9, activation='relu', kernel_initializer='glorot_uniform'),\n",
        "  tf.keras.layers.Dense(9, activation='relu', kernel_initializer='glorot_uniform'),\n",
        "  tf.keras.layers.Dense(1),\n",
        "])\n",
        "\n",
        "RL_3_25 = tf.keras.models.Sequential([\n",
        "  tf.keras.layers.Dense(24, activation='relu', kernel_initializer='glorot_uniform'),\n",
        "  tf.keras.layers.Dense(24, activation='relu', kernel_initializer='glorot_uniform'),\n",
        "  tf.keras.layers.Dense(1),\n",
        "])\n",
        "\n",
        "RL_3_50 = tf.keras.models.Sequential([\n",
        "  tf.keras.layers.Dense(49, activation='relu', kernel_initializer='glorot_uniform'),\n",
        "  tf.keras.layers.Dense(49, activation='relu', kernel_initializer='glorot_uniform'),\n",
        "  tf.keras.layers.Dense(1),\n",
        "])\n",
        "\n",
        "RL_3_100 = tf.keras.models.Sequential([\n",
        "  tf.keras.layers.Dense(99, activation='relu', kernel_initializer='glorot_uniform'),\n",
        "  tf.keras.layers.Dense(99, activation='relu', kernel_initializer='glorot_uniform'),\n",
        "  tf.keras.layers.Dense(1),\n",
        "])\n",
        "\n",
        "# RL 5 ############################################\n",
        "RL_5_5 = tf.keras.models.Sequential([\n",
        "  tf.keras.layers.Dense(4, activation='relu', kernel_initializer='glorot_uniform'),\n",
        "  tf.keras.layers.Dense(4, activation='relu', kernel_initializer='glorot_uniform'),\n",
        "  tf.keras.layers.Dense(4, activation='relu', kernel_initializer='glorot_uniform'),\n",
        "  tf.keras.layers.Dense(4, activation='relu', kernel_initializer='glorot_uniform'),\n",
        "  tf.keras.layers.Dense(1),\n",
        "])\n",
        "\n",
        "RL_5_10 = tf.keras.models.Sequential([\n",
        "  tf.keras.layers.Dense(9, activation='relu', kernel_initializer='glorot_uniform'),\n",
        "  tf.keras.layers.Dense(9, activation='relu', kernel_initializer='glorot_uniform'),\n",
        "  tf.keras.layers.Dense(9, activation='relu', kernel_initializer='glorot_uniform'),\n",
        "  tf.keras.layers.Dense(9, activation='relu', kernel_initializer='glorot_uniform'),\n",
        "  tf.keras.layers.Dense(1),\n",
        "])\n",
        "\n",
        "RL_5_25 = tf.keras.models.Sequential([\n",
        "  tf.keras.layers.Dense(24, activation='relu', kernel_initializer='glorot_uniform'),\n",
        "  tf.keras.layers.Dense(24, activation='relu', kernel_initializer='glorot_uniform'),\n",
        "  tf.keras.layers.Dense(24, activation='relu', kernel_initializer='glorot_uniform'),\n",
        "  tf.keras.layers.Dense(24, activation='relu', kernel_initializer='glorot_uniform'),\n",
        "  tf.keras.layers.Dense(1),\n",
        "])\n",
        "\n",
        "RL_5_50 = tf.keras.models.Sequential([\n",
        "  tf.keras.layers.Dense(49, activation='relu', kernel_initializer='glorot_uniform'),\n",
        "  tf.keras.layers.Dense(49, activation='relu', kernel_initializer='glorot_uniform'),\n",
        "  tf.keras.layers.Dense(49, activation='relu', kernel_initializer='glorot_uniform'),\n",
        "  tf.keras.layers.Dense(49, activation='relu', kernel_initializer='glorot_uniform'),\n",
        "  tf.keras.layers.Dense(1),\n",
        "])\n",
        "\n",
        "RL_5_100 = tf.keras.models.Sequential([\n",
        "  tf.keras.layers.Dense(99, activation='relu', kernel_initializer='glorot_uniform'),\n",
        "  tf.keras.layers.Dense(99, activation='relu', kernel_initializer='glorot_uniform'),\n",
        "  tf.keras.layers.Dense(99, activation='relu', kernel_initializer='glorot_uniform'),\n",
        "  tf.keras.layers.Dense(99, activation='relu', kernel_initializer='glorot_uniform'),\n",
        "  tf.keras.layers.Dense(1),\n",
        "])\n",
        "\n",
        "# RL 9 ############################################\n",
        "\n",
        "RL_9_5 = tf.keras.models.Sequential([\n",
        "  tf.keras.layers.Dense(4, activation='relu', kernel_initializer='glorot_uniform'),\n",
        "  tf.keras.layers.Dense(4, activation='relu', kernel_initializer='glorot_uniform'),\n",
        "  tf.keras.layers.Dense(4, activation='relu', kernel_initializer='glorot_uniform'),\n",
        "  tf.keras.layers.Dense(4, activation='relu', kernel_initializer='glorot_uniform'),\n",
        "  tf.keras.layers.Dense(4, activation='relu', kernel_initializer='glorot_uniform'),\n",
        "  tf.keras.layers.Dense(4, activation='relu', kernel_initializer='glorot_uniform'),\n",
        "  tf.keras.layers.Dense(4, activation='relu', kernel_initializer='glorot_uniform'),\n",
        "  tf.keras.layers.Dense(4, activation='relu', kernel_initializer='glorot_uniform'),\n",
        "  tf.keras.layers.Dense(1),\n",
        "])\n",
        "\n",
        "RL_9_10 = tf.keras.models.Sequential([\n",
        "  tf.keras.layers.Dense(9, activation='relu', kernel_initializer='glorot_uniform'),\n",
        "  tf.keras.layers.Dense(9, activation='relu', kernel_initializer='glorot_uniform'),\n",
        "  tf.keras.layers.Dense(9, activation='relu', kernel_initializer='glorot_uniform'),\n",
        "  tf.keras.layers.Dense(9, activation='relu', kernel_initializer='glorot_uniform'),\n",
        "  tf.keras.layers.Dense(9, activation='relu', kernel_initializer='glorot_uniform'),\n",
        "  tf.keras.layers.Dense(9, activation='relu', kernel_initializer='glorot_uniform'),\n",
        "  tf.keras.layers.Dense(9, activation='relu', kernel_initializer='glorot_uniform'),\n",
        "  tf.keras.layers.Dense(9, activation='relu', kernel_initializer='glorot_uniform'),\n",
        "  tf.keras.layers.Dense(1),\n",
        "])\n",
        "\n",
        "RL_9_25 = tf.keras.models.Sequential([\n",
        "  tf.keras.layers.Dense(24, activation='relu', kernel_initializer='glorot_uniform'),\n",
        "  tf.keras.layers.Dense(24, activation='relu', kernel_initializer='glorot_uniform'),\n",
        "  tf.keras.layers.Dense(24, activation='relu', kernel_initializer='glorot_uniform'),\n",
        "  tf.keras.layers.Dense(24, activation='relu', kernel_initializer='glorot_uniform'),\n",
        "  tf.keras.layers.Dense(24, activation='relu', kernel_initializer='glorot_uniform'),\n",
        "  tf.keras.layers.Dense(24, activation='relu', kernel_initializer='glorot_uniform'),\n",
        "  tf.keras.layers.Dense(24, activation='relu', kernel_initializer='glorot_uniform'),\n",
        "  tf.keras.layers.Dense(24, activation='relu', kernel_initializer='glorot_uniform'),\n",
        "  tf.keras.layers.Dense(1),\n",
        "])\n",
        "\n",
        "RL_9_50 = tf.keras.models.Sequential([\n",
        "  tf.keras.layers.Dense(49, activation='relu', kernel_initializer='glorot_uniform'),\n",
        "  tf.keras.layers.Dense(49, activation='relu', kernel_initializer='glorot_uniform'),\n",
        "  tf.keras.layers.Dense(49, activation='relu', kernel_initializer='glorot_uniform'),\n",
        "  tf.keras.layers.Dense(49, activation='relu', kernel_initializer='glorot_uniform'),\n",
        "  tf.keras.layers.Dense(49, activation='relu', kernel_initializer='glorot_uniform'),\n",
        "  tf.keras.layers.Dense(49, activation='relu', kernel_initializer='glorot_uniform'),\n",
        "  tf.keras.layers.Dense(49, activation='relu', kernel_initializer='glorot_uniform'),\n",
        "  tf.keras.layers.Dense(49, activation='relu', kernel_initializer='glorot_uniform'),\n",
        "  tf.keras.layers.Dense(1),\n",
        "])\n",
        "\n",
        "RL_9_100 = tf.keras.models.Sequential([\n",
        "  tf.keras.layers.Dense(99, activation='relu', kernel_initializer='glorot_uniform'),\n",
        "  tf.keras.layers.Dense(99, activation='relu', kernel_initializer='glorot_uniform'),\n",
        "  tf.keras.layers.Dense(99, activation='relu', kernel_initializer='glorot_uniform'),\n",
        "  tf.keras.layers.Dense(99, activation='relu', kernel_initializer='glorot_uniform'),\n",
        "  tf.keras.layers.Dense(99, activation='relu', kernel_initializer='glorot_uniform'),\n",
        "  tf.keras.layers.Dense(99, activation='relu', kernel_initializer='glorot_uniform'),\n",
        "  tf.keras.layers.Dense(99, activation='relu', kernel_initializer='glorot_uniform'),\n",
        "  tf.keras.layers.Dense(99, activation='relu', kernel_initializer='glorot_uniform'),\n",
        "  tf.keras.layers.Dense(1),\n",
        "])\n"
      ],
      "execution_count": null,
      "outputs": []
    },
    {
      "cell_type": "code",
      "metadata": {
        "id": "-ep21bwCHYss"
      },
      "source": [
        "# TH 3 ############################################\n",
        "TH_3_5 = tf.keras.models.Sequential([\n",
        "  tf.keras.layers.Dense(4, activation='tanh', kernel_initializer=tf.keras.initializers.HeNormal()),\n",
        "  tf.keras.layers.Dense(4, activation='tanh', kernel_initializer=tf.keras.initializers.HeNormal()),\n",
        "  tf.keras.layers.Dense(1),\n",
        "])\n",
        "\n",
        "TH_3_10 = tf.keras.models.Sequential([\n",
        "  tf.keras.layers.Dense(9, activation='tanh', kernel_initializer=tf.keras.initializers.HeNormal()),\n",
        "  tf.keras.layers.Dense(9, activation='tanh', kernel_initializer=tf.keras.initializers.HeNormal()),\n",
        "  tf.keras.layers.Dense(1),\n",
        "])\n",
        "\n",
        "TH_3_25 = tf.keras.models.Sequential([\n",
        "  tf.keras.layers.Dense(24, activation='tanh', kernel_initializer=tf.keras.initializers.HeNormal()),\n",
        "  tf.keras.layers.Dense(24, activation='tanh', kernel_initializer=tf.keras.initializers.HeNormal()),\n",
        "  tf.keras.layers.Dense(1),\n",
        "])\n",
        "\n",
        "TH_3_50 = tf.keras.models.Sequential([\n",
        "  tf.keras.layers.Dense(49, activation='tanh', kernel_initializer=tf.keras.initializers.HeNormal()),\n",
        "  tf.keras.layers.Dense(49, activation='tanh', kernel_initializer=tf.keras.initializers.HeNormal()),\n",
        "  tf.keras.layers.Dense(1),\n",
        "])\n",
        "\n",
        "TH_3_100 = tf.keras.models.Sequential([\n",
        "  tf.keras.layers.Dense(99, activation='tanh', kernel_initializer=tf.keras.initializers.HeNormal()),\n",
        "  tf.keras.layers.Dense(99, activation='tanh', kernel_initializer=tf.keras.initializers.HeNormal()),\n",
        "  tf.keras.layers.Dense(1),\n",
        "])\n",
        "\n",
        "# RL 5 ############################################\n",
        "TH_5_5 = tf.keras.models.Sequential([\n",
        "  tf.keras.layers.Dense(4, activation='tanh', kernel_initializer=tf.keras.initializers.HeNormal()),\n",
        "  tf.keras.layers.Dense(4, activation='tanh', kernel_initializer=tf.keras.initializers.HeNormal()),\n",
        "  tf.keras.layers.Dense(4, activation='tanh', kernel_initializer=tf.keras.initializers.HeNormal()),\n",
        "  tf.keras.layers.Dense(4, activation='tanh', kernel_initializer=tf.keras.initializers.HeNormal()),\n",
        "  tf.keras.layers.Dense(1),\n",
        "])\n",
        "\n",
        "TH_5_10 = tf.keras.models.Sequential([\n",
        "  tf.keras.layers.Dense(9, activation='tanh', kernel_initializer=tf.keras.initializers.HeNormal()),\n",
        "  tf.keras.layers.Dense(9, activation='tanh', kernel_initializer=tf.keras.initializers.HeNormal()),\n",
        "  tf.keras.layers.Dense(9, activation='tanh', kernel_initializer=tf.keras.initializers.HeNormal()),\n",
        "  tf.keras.layers.Dense(9, activation='tanh', kernel_initializer=tf.keras.initializers.HeNormal()),\n",
        "  tf.keras.layers.Dense(1),\n",
        "])\n",
        "\n",
        "TH_5_25 = tf.keras.models.Sequential([\n",
        "  tf.keras.layers.Dense(24, activation='tanh', kernel_initializer=tf.keras.initializers.HeNormal()),\n",
        "  tf.keras.layers.Dense(24, activation='tanh', kernel_initializer=tf.keras.initializers.HeNormal()),\n",
        "  tf.keras.layers.Dense(24, activation='tanh', kernel_initializer=tf.keras.initializers.HeNormal()),\n",
        "  tf.keras.layers.Dense(24, activation='tanh', kernel_initializer=tf.keras.initializers.HeNormal()),\n",
        "  tf.keras.layers.Dense(1),\n",
        "])\n",
        "\n",
        "TH_5_50 = tf.keras.models.Sequential([\n",
        "  tf.keras.layers.Dense(49, activation='tanh', kernel_initializer=tf.keras.initializers.HeNormal()),\n",
        "  tf.keras.layers.Dense(49, activation='tanh', kernel_initializer=tf.keras.initializers.HeNormal()),\n",
        "  tf.keras.layers.Dense(49, activation='tanh', kernel_initializer=tf.keras.initializers.HeNormal()),\n",
        "  tf.keras.layers.Dense(49, activation='tanh', kernel_initializer=tf.keras.initializers.HeNormal()),\n",
        "  tf.keras.layers.Dense(1),\n",
        "])\n",
        "\n",
        "TH_5_100 = tf.keras.models.Sequential([\n",
        "  tf.keras.layers.Dense(99, activation='tanh', kernel_initializer=tf.keras.initializers.HeNormal()),\n",
        "  tf.keras.layers.Dense(99, activation='tanh', kernel_initializer=tf.keras.initializers.HeNormal()),\n",
        "  tf.keras.layers.Dense(99, activation='tanh', kernel_initializer=tf.keras.initializers.HeNormal()),\n",
        "  tf.keras.layers.Dense(99, activation='tanh', kernel_initializer=tf.keras.initializers.HeNormal()),\n",
        "  tf.keras.layers.Dense(1),\n",
        "])\n",
        "\n",
        "# RL 9 ############################################\n",
        "\n",
        "TH_9_5 = tf.keras.models.Sequential([\n",
        "  tf.keras.layers.Dense(4, activation='tanh', kernel_initializer=tf.keras.initializers.HeNormal()),\n",
        "  tf.keras.layers.Dense(4, activation='tanh', kernel_initializer=tf.keras.initializers.HeNormal()),\n",
        "  tf.keras.layers.Dense(4, activation='tanh', kernel_initializer=tf.keras.initializers.HeNormal()),\n",
        "  tf.keras.layers.Dense(4, activation='tanh', kernel_initializer=tf.keras.initializers.HeNormal()),\n",
        "  tf.keras.layers.Dense(4, activation='tanh', kernel_initializer=tf.keras.initializers.HeNormal()),\n",
        "  tf.keras.layers.Dense(4, activation='tanh', kernel_initializer=tf.keras.initializers.HeNormal()),\n",
        "  tf.keras.layers.Dense(4, activation='tanh', kernel_initializer=tf.keras.initializers.HeNormal()),\n",
        "  tf.keras.layers.Dense(4, activation='tanh', kernel_initializer=tf.keras.initializers.HeNormal()),\n",
        "  tf.keras.layers.Dense(1),\n",
        "])\n",
        "\n",
        "TH_9_10 = tf.keras.models.Sequential([\n",
        "  tf.keras.layers.Dense(9, activation='tanh', kernel_initializer=tf.keras.initializers.HeNormal()),\n",
        "  tf.keras.layers.Dense(9, activation='tanh', kernel_initializer=tf.keras.initializers.HeNormal()),\n",
        "  tf.keras.layers.Dense(9, activation='tanh', kernel_initializer=tf.keras.initializers.HeNormal()),\n",
        "  tf.keras.layers.Dense(9, activation='tanh', kernel_initializer=tf.keras.initializers.HeNormal()),\n",
        "  tf.keras.layers.Dense(9, activation='tanh', kernel_initializer=tf.keras.initializers.HeNormal()),\n",
        "  tf.keras.layers.Dense(9, activation='tanh', kernel_initializer=tf.keras.initializers.HeNormal()),\n",
        "  tf.keras.layers.Dense(9, activation='tanh', kernel_initializer=tf.keras.initializers.HeNormal()),\n",
        "  tf.keras.layers.Dense(9, activation='tanh', kernel_initializer=tf.keras.initializers.HeNormal()),\n",
        "  tf.keras.layers.Dense(1),\n",
        "])\n",
        "\n",
        "TH_9_25 = tf.keras.models.Sequential([\n",
        "  tf.keras.layers.Dense(24, activation='tanh', kernel_initializer=tf.keras.initializers.HeNormal()),\n",
        "  tf.keras.layers.Dense(24, activation='tanh', kernel_initializer=tf.keras.initializers.HeNormal()),\n",
        "  tf.keras.layers.Dense(24, activation='tanh', kernel_initializer=tf.keras.initializers.HeNormal()),\n",
        "  tf.keras.layers.Dense(24, activation='tanh', kernel_initializer=tf.keras.initializers.HeNormal()),\n",
        "  tf.keras.layers.Dense(24, activation='tanh', kernel_initializer=tf.keras.initializers.HeNormal()),\n",
        "  tf.keras.layers.Dense(24, activation='tanh', kernel_initializer=tf.keras.initializers.HeNormal()),\n",
        "  tf.keras.layers.Dense(24, activation='tanh', kernel_initializer=tf.keras.initializers.HeNormal()),\n",
        "  tf.keras.layers.Dense(24, activation='tanh', kernel_initializer=tf.keras.initializers.HeNormal()),\n",
        "  tf.keras.layers.Dense(1),\n",
        "])\n",
        "\n",
        "TH_9_50 = tf.keras.models.Sequential([\n",
        "  tf.keras.layers.Dense(49, activation='tanh', kernel_initializer=tf.keras.initializers.HeNormal()),\n",
        "  tf.keras.layers.Dense(49, activation='tanh', kernel_initializer=tf.keras.initializers.HeNormal()),\n",
        "  tf.keras.layers.Dense(49, activation='tanh', kernel_initializer=tf.keras.initializers.HeNormal()),\n",
        "  tf.keras.layers.Dense(49, activation='tanh', kernel_initializer=tf.keras.initializers.HeNormal()),\n",
        "  tf.keras.layers.Dense(49, activation='tanh', kernel_initializer=tf.keras.initializers.HeNormal()),\n",
        "  tf.keras.layers.Dense(49, activation='tanh', kernel_initializer=tf.keras.initializers.HeNormal()),\n",
        "  tf.keras.layers.Dense(49, activation='tanh', kernel_initializer=tf.keras.initializers.HeNormal()),\n",
        "  tf.keras.layers.Dense(49, activation='tanh', kernel_initializer=tf.keras.initializers.HeNormal()),\n",
        "  tf.keras.layers.Dense(1),\n",
        "])\n",
        "\n",
        "TH_9_100 = tf.keras.models.Sequential([\n",
        "  tf.keras.layers.Dense(99, activation='tanh', kernel_initializer=tf.keras.initializers.HeNormal()),\n",
        "  tf.keras.layers.Dense(99, activation='tanh', kernel_initializer=tf.keras.initializers.HeNormal()),\n",
        "  tf.keras.layers.Dense(99, activation='tanh', kernel_initializer=tf.keras.initializers.HeNormal()),\n",
        "  tf.keras.layers.Dense(99, activation='tanh', kernel_initializer=tf.keras.initializers.HeNormal()),\n",
        "  tf.keras.layers.Dense(99, activation='tanh', kernel_initializer=tf.keras.initializers.HeNormal()),\n",
        "  tf.keras.layers.Dense(99, activation='tanh', kernel_initializer=tf.keras.initializers.HeNormal()),\n",
        "  tf.keras.layers.Dense(99, activation='tanh', kernel_initializer=tf.keras.initializers.HeNormal()),\n",
        "  tf.keras.layers.Dense(99, activation='tanh', kernel_initializer=tf.keras.initializers.HeNormal()),\n",
        "  tf.keras.layers.Dense(1),\n",
        "])\n"
      ],
      "execution_count": null,
      "outputs": []
    },
    {
      "cell_type": "code",
      "metadata": {
        "colab": {
          "resources": {
            "http://localhost:8080/nbextensions/google.colab/files.js": {
              "data": "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",
              "ok": true,
              "headers": [
                [
                  "content-type",
                  "application/javascript"
                ]
              ],
              "status": 200,
              "status_text": ""
            }
          },
          "base_uri": "https://localhost:8080/",
          "height": 73
        },
        "id": "KPsvH1kwH51m",
        "outputId": "78a15211-f624-4ae4-fd22-be6b7b05ba48"
      },
      "source": [
        "from google.colab import files\n",
        "uploaded = files.upload()"
      ],
      "execution_count": null,
      "outputs": [
        {
          "output_type": "display_data",
          "data": {
            "text/html": [
              "\n",
              "     <input type=\"file\" id=\"files-0e2a8831-f7ea-40c6-83a9-47f2a5f8a68d\" name=\"files[]\" multiple disabled\n",
              "        style=\"border:none\" />\n",
              "     <output id=\"result-0e2a8831-f7ea-40c6-83a9-47f2a5f8a68d\">\n",
              "      Upload widget is only available when the cell has been executed in the\n",
              "      current browser session. Please rerun this cell to enable.\n",
              "      </output>\n",
              "      <script src=\"/nbextensions/google.colab/files.js\"></script> "
            ],
            "text/plain": [
              "<IPython.core.display.HTML object>"
            ]
          },
          "metadata": {}
        },
        {
          "output_type": "stream",
          "name": "stdout",
          "text": [
            "Saving test.csv to test.csv\n"
          ]
        }
      ]
    },
    {
      "cell_type": "code",
      "metadata": {
        "colab": {
          "resources": {
            "http://localhost:8080/nbextensions/google.colab/files.js": {
              "data": "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",
              "ok": true,
              "headers": [
                [
                  "content-type",
                  "application/javascript"
                ]
              ],
              "status": 200,
              "status_text": ""
            }
          },
          "base_uri": "https://localhost:8080/",
          "height": 73
        },
        "id": "Wwe6JLoCIaBM",
        "outputId": "b08f602f-82a2-4031-a1ed-c2f3974baab1"
      },
      "source": [
        "from google.colab import files\n",
        "uploaded = files.upload()"
      ],
      "execution_count": null,
      "outputs": [
        {
          "output_type": "display_data",
          "data": {
            "text/html": [
              "\n",
              "     <input type=\"file\" id=\"files-6376176e-e063-44ba-9c60-6e0fd22ae4bd\" name=\"files[]\" multiple disabled\n",
              "        style=\"border:none\" />\n",
              "     <output id=\"result-6376176e-e063-44ba-9c60-6e0fd22ae4bd\">\n",
              "      Upload widget is only available when the cell has been executed in the\n",
              "      current browser session. Please rerun this cell to enable.\n",
              "      </output>\n",
              "      <script src=\"/nbextensions/google.colab/files.js\"></script> "
            ],
            "text/plain": [
              "<IPython.core.display.HTML object>"
            ]
          },
          "metadata": {}
        },
        {
          "output_type": "stream",
          "name": "stdout",
          "text": [
            "Saving train.csv to train.csv\n"
          ]
        }
      ]
    },
    {
      "cell_type": "code",
      "metadata": {
        "id": "u3FcMvtFIcgt"
      },
      "source": [
        "import numpy as np\n",
        "tempSandY = np.loadtxt(fname=\"train.csv\", dtype=float, delimiter=',')\n",
        "S = tempSandY[:,0:-1]\n",
        "y = tempSandY[:,-1]"
      ],
      "execution_count": null,
      "outputs": []
    },
    {
      "cell_type": "code",
      "metadata": {
        "colab": {
          "base_uri": "https://localhost:8080/"
        },
        "id": "b3zI_okhJELj",
        "outputId": "d78d6c54-5549-4927-dd88-a1837ec326b2"
      },
      "source": [
        "print(S.shape)"
      ],
      "execution_count": null,
      "outputs": [
        {
          "output_type": "stream",
          "name": "stdout",
          "text": [
            "(872, 4)\n"
          ]
        }
      ]
    },
    {
      "cell_type": "code",
      "metadata": {
        "id": "l77TRHXRJGTk"
      },
      "source": [
        "tempSandY = np.loadtxt(fname=\"test.csv\", dtype=float, delimiter=',')\n",
        "STest = tempSandY[:,0:-1]\n",
        "yTest = tempSandY[:,-1]"
      ],
      "execution_count": null,
      "outputs": []
    },
    {
      "cell_type": "code",
      "metadata": {
        "colab": {
          "base_uri": "https://localhost:8080/"
        },
        "id": "zvml6wyYJSOT",
        "outputId": "98f83212-b456-4d91-9ae2-f533a10f5399"
      },
      "source": [
        "print(STest.shape)"
      ],
      "execution_count": null,
      "outputs": [
        {
          "output_type": "stream",
          "name": "stdout",
          "text": [
            "(500, 4)\n"
          ]
        }
      ]
    },
    {
      "cell_type": "code",
      "metadata": {
        "id": "tY3lpEC8JUpD"
      },
      "source": [
        "#RL_9_100.compile(optimizer=tf.keras.optimizers.Adam(\n",
        "#    learning_rate=1e-3), loss=tf.keras.losses.MeanSquaredError())"
      ],
      "execution_count": null,
      "outputs": []
    },
    {
      "cell_type": "code",
      "metadata": {
        "id": "dnmVaTFYN6tT"
      },
      "source": [
        "#with tf.device('/device:GPU:0'):\n",
        "#  history = RL_9_100.fit(S, y, epochs=250, validation_data=(STest, yTest), verbose=0)"
      ],
      "execution_count": null,
      "outputs": []
    },
    {
      "cell_type": "code",
      "metadata": {
        "id": "f8K-gQ56SHqz"
      },
      "source": [
        "def errorReports(modelText, model, S, y, STest, yTest):\n",
        "  SPred = model.predict(S, verbose=0)\n",
        "  STestPred = model.predict(STest, verbose=0)\n",
        "\n",
        "  errorsTrain = 0\n",
        "  errorsTest = 0\n",
        "\n",
        "  for i in range(S.shape[0]):\n",
        "    if SPred[i] >= 0.5 and y[i] < 0.5:\n",
        "      errorsTrain += 1\n",
        "    elif SPred[i] < 0.5 and y[i] >= 0.5:\n",
        "      errorsTrain += 1\n",
        "\n",
        "  for i in range(STest.shape[0]):\n",
        "    if STestPred[i] >= 0.5 and yTest[i] < 0.5:\n",
        "      errorsTest += 1\n",
        "    elif STestPred[i] < 0.5 and yTest[i] >= 0.5:\n",
        "      errorsTest += 1\n",
        "\n",
        "  print(modelText + \" Training error: \" + str(errorsTrain / S.shape[0]) + \" Test error: \" + str(errorsTest / STest.shape[0]))"
      ],
      "execution_count": null,
      "outputs": []
    },
    {
      "cell_type": "code",
      "metadata": {
        "colab": {
          "base_uri": "https://localhost:8080/"
        },
        "id": "6i1XFtPUTmTa",
        "outputId": "01c73db0-6231-4e95-9f4f-374c46124ab3"
      },
      "source": [
        "#errorReports(\"ReLU D3 W5\", RL_9_100, S, y, STest, yTest)"
      ],
      "execution_count": null,
      "outputs": [
        {
          "output_type": "stream",
          "name": "stdout",
          "text": [
            "ReLU D3 W5 Training error: 0.0 Test error: 0.0\n"
          ]
        }
      ]
    },
    {
      "cell_type": "code",
      "metadata": {
        "id": "jQOoPlbyFMZu"
      },
      "source": [
        "RL_3_5.compile(optimizer=tf.keras.optimizers.Adam(\n",
        "    learning_rate=1e-3), loss=tf.keras.losses.MeanSquaredError())\n",
        "with tf.device('/device:GPU:0'):\n",
        "  history = RL_3_5.fit(S, y, epochs=250, validation_data=(STest, yTest), verbose=0)\n",
        "\n",
        "RL_3_10.compile(optimizer=tf.keras.optimizers.Adam(\n",
        "    learning_rate=1e-3), loss=tf.keras.losses.MeanSquaredError())\n",
        "with tf.device('/device:GPU:0'):\n",
        "  history = RL_3_10.fit(S, y, epochs=250, validation_data=(STest, yTest), verbose=0)\n",
        "\n",
        "RL_3_25.compile(optimizer=tf.keras.optimizers.Adam(\n",
        "    learning_rate=1e-3), loss=tf.keras.losses.MeanSquaredError())\n",
        "with tf.device('/device:GPU:0'):\n",
        "  history = RL_3_25.fit(S, y, epochs=250, validation_data=(STest, yTest), verbose=0)\n",
        "\n",
        "RL_3_50.compile(optimizer=tf.keras.optimizers.Adam(\n",
        "    learning_rate=1e-3), loss=tf.keras.losses.MeanSquaredError())\n",
        "with tf.device('/device:GPU:0'):\n",
        "  history = RL_3_50.fit(S, y, epochs=250, validation_data=(STest, yTest), verbose=0)\n",
        "\n",
        "RL_3_100.compile(optimizer=tf.keras.optimizers.Adam(\n",
        "    learning_rate=1e-3), loss=tf.keras.losses.MeanSquaredError())\n",
        "with tf.device('/device:GPU:0'):\n",
        "  history = RL_3_100.fit(S, y, epochs=250, validation_data=(STest, yTest), verbose=0)\n",
        "\n",
        "###############################################\n",
        "\n",
        "RL_5_5.compile(optimizer=tf.keras.optimizers.Adam(\n",
        "    learning_rate=1e-3), loss=tf.keras.losses.MeanSquaredError())\n",
        "with tf.device('/device:GPU:0'):\n",
        "  history = RL_5_5.fit(S, y, epochs=250, validation_data=(STest, yTest), verbose=0)\n",
        "\n",
        "RL_5_10.compile(optimizer=tf.keras.optimizers.Adam(\n",
        "    learning_rate=1e-3), loss=tf.keras.losses.MeanSquaredError())\n",
        "with tf.device('/device:GPU:0'):\n",
        "  history = RL_5_10.fit(S, y, epochs=250, validation_data=(STest, yTest), verbose=0)\n",
        "\n",
        "RL_5_25.compile(optimizer=tf.keras.optimizers.Adam(\n",
        "    learning_rate=1e-3), loss=tf.keras.losses.MeanSquaredError())\n",
        "with tf.device('/device:GPU:0'):\n",
        "  history = RL_5_25.fit(S, y, epochs=250, validation_data=(STest, yTest), verbose=0)\n",
        "\n",
        "RL_5_50.compile(optimizer=tf.keras.optimizers.Adam(\n",
        "    learning_rate=1e-3), loss=tf.keras.losses.MeanSquaredError())\n",
        "with tf.device('/device:GPU:0'):\n",
        "  history = RL_5_50.fit(S, y, epochs=250, validation_data=(STest, yTest), verbose=0)\n",
        "\n",
        "RL_5_100.compile(optimizer=tf.keras.optimizers.Adam(\n",
        "    learning_rate=1e-3), loss=tf.keras.losses.MeanSquaredError())\n",
        "with tf.device('/device:GPU:0'):\n",
        "  history = RL_5_100.fit(S, y, epochs=250, validation_data=(STest, yTest), verbose=0)\n",
        "\n",
        "###############################################\n",
        "\n",
        "RL_9_5.compile(optimizer=tf.keras.optimizers.Adam(\n",
        "    learning_rate=1e-3), loss=tf.keras.losses.MeanSquaredError())\n",
        "with tf.device('/device:GPU:0'):\n",
        "  history = RL_9_5.fit(S, y, epochs=250, validation_data=(STest, yTest), verbose=0)\n",
        "\n",
        "RL_9_10.compile(optimizer=tf.keras.optimizers.Adam(\n",
        "    learning_rate=1e-3), loss=tf.keras.losses.MeanSquaredError())\n",
        "with tf.device('/device:GPU:0'):\n",
        "  history = RL_9_10.fit(S, y, epochs=250, validation_data=(STest, yTest), verbose=0)\n",
        "\n",
        "RL_9_25.compile(optimizer=tf.keras.optimizers.Adam(\n",
        "    learning_rate=1e-3), loss=tf.keras.losses.MeanSquaredError())\n",
        "with tf.device('/device:GPU:0'):\n",
        "  history = RL_9_25.fit(S, y, epochs=250, validation_data=(STest, yTest), verbose=0)\n",
        "\n",
        "RL_9_50.compile(optimizer=tf.keras.optimizers.Adam(\n",
        "    learning_rate=1e-3), loss=tf.keras.losses.MeanSquaredError())\n",
        "with tf.device('/device:GPU:0'):\n",
        "  history = RL_9_50.fit(S, y, epochs=250, validation_data=(STest, yTest), verbose=0)\n",
        "\n",
        "RL_9_100.compile(optimizer=tf.keras.optimizers.Adam(\n",
        "    learning_rate=1e-3), loss=tf.keras.losses.MeanSquaredError())\n",
        "with tf.device('/device:GPU:0'):\n",
        "  history = RL_9_100.fit(S, y, epochs=250, validation_data=(STest, yTest), verbose=0)\n"
      ],
      "execution_count": null,
      "outputs": []
    },
    {
      "cell_type": "code",
      "metadata": {
        "id": "Z_Cp2-txGW9m"
      },
      "source": [
        "TH_3_5.compile(optimizer=tf.keras.optimizers.Adam(\n",
        "    learning_rate=1e-3), loss=tf.keras.losses.MeanSquaredError())\n",
        "with tf.device('/device:GPU:0'):\n",
        "  history = TH_3_5.fit(S, y, epochs=250, validation_data=(STest, yTest), verbose=0)\n",
        "\n",
        "TH_3_10.compile(optimizer=tf.keras.optimizers.Adam(\n",
        "    learning_rate=1e-3), loss=tf.keras.losses.MeanSquaredError())\n",
        "with tf.device('/device:GPU:0'):\n",
        "  history = TH_3_10.fit(S, y, epochs=250, validation_data=(STest, yTest), verbose=0)\n",
        "\n",
        "TH_3_25.compile(optimizer=tf.keras.optimizers.Adam(\n",
        "    learning_rate=1e-3), loss=tf.keras.losses.MeanSquaredError())\n",
        "with tf.device('/device:GPU:0'):\n",
        "  history = TH_3_25.fit(S, y, epochs=250, validation_data=(STest, yTest), verbose=0)\n",
        "\n",
        "TH_3_50.compile(optimizer=tf.keras.optimizers.Adam(\n",
        "    learning_rate=1e-3), loss=tf.keras.losses.MeanSquaredError())\n",
        "with tf.device('/device:GPU:0'):\n",
        "  history = TH_3_50.fit(S, y, epochs=250, validation_data=(STest, yTest), verbose=0)\n",
        "\n",
        "TH_3_100.compile(optimizer=tf.keras.optimizers.Adam(\n",
        "    learning_rate=1e-3), loss=tf.keras.losses.MeanSquaredError())\n",
        "with tf.device('/device:GPU:0'):\n",
        "  history = TH_3_100.fit(S, y, epochs=250, validation_data=(STest, yTest), verbose=0)\n",
        "\n",
        "###############################################\n",
        "\n",
        "TH_5_5.compile(optimizer=tf.keras.optimizers.Adam(\n",
        "    learning_rate=1e-3), loss=tf.keras.losses.MeanSquaredError())\n",
        "with tf.device('/device:GPU:0'):\n",
        "  history = TH_5_5.fit(S, y, epochs=250, validation_data=(STest, yTest), verbose=0)\n",
        "\n",
        "TH_5_10.compile(optimizer=tf.keras.optimizers.Adam(\n",
        "    learning_rate=1e-3), loss=tf.keras.losses.MeanSquaredError())\n",
        "with tf.device('/device:GPU:0'):\n",
        "  history = TH_5_10.fit(S, y, epochs=250, validation_data=(STest, yTest), verbose=0)\n",
        "\n",
        "TH_5_25.compile(optimizer=tf.keras.optimizers.Adam(\n",
        "    learning_rate=1e-3), loss=tf.keras.losses.MeanSquaredError())\n",
        "with tf.device('/device:GPU:0'):\n",
        "  history = TH_5_25.fit(S, y, epochs=250, validation_data=(STest, yTest), verbose=0)\n",
        "\n",
        "TH_5_50.compile(optimizer=tf.keras.optimizers.Adam(\n",
        "    learning_rate=1e-3), loss=tf.keras.losses.MeanSquaredError())\n",
        "with tf.device('/device:GPU:0'):\n",
        "  history = TH_5_50.fit(S, y, epochs=250, validation_data=(STest, yTest), verbose=0)\n",
        "\n",
        "TH_5_100.compile(optimizer=tf.keras.optimizers.Adam(\n",
        "    learning_rate=1e-3), loss=tf.keras.losses.MeanSquaredError())\n",
        "with tf.device('/device:GPU:0'):\n",
        "  history = TH_5_100.fit(S, y, epochs=250, validation_data=(STest, yTest), verbose=0)\n",
        "\n",
        "###############################################\n",
        "\n",
        "TH_9_5.compile(optimizer=tf.keras.optimizers.Adam(\n",
        "    learning_rate=1e-3), loss=tf.keras.losses.MeanSquaredError())\n",
        "with tf.device('/device:GPU:0'):\n",
        "  history = TH_9_5.fit(S, y, epochs=250, validation_data=(STest, yTest), verbose=0)\n",
        "\n",
        "TH_9_10.compile(optimizer=tf.keras.optimizers.Adam(\n",
        "    learning_rate=1e-3), loss=tf.keras.losses.MeanSquaredError())\n",
        "with tf.device('/device:GPU:0'):\n",
        "  history = TH_9_10.fit(S, y, epochs=250, validation_data=(STest, yTest), verbose=0)\n",
        "\n",
        "TH_9_25.compile(optimizer=tf.keras.optimizers.Adam(\n",
        "    learning_rate=1e-3), loss=tf.keras.losses.MeanSquaredError())\n",
        "with tf.device('/device:GPU:0'):\n",
        "  history = TH_9_25.fit(S, y, epochs=250, validation_data=(STest, yTest), verbose=0)\n",
        "\n",
        "TH_9_50.compile(optimizer=tf.keras.optimizers.Adam(\n",
        "    learning_rate=1e-3), loss=tf.keras.losses.MeanSquaredError())\n",
        "with tf.device('/device:GPU:0'):\n",
        "  history = TH_9_50.fit(S, y, epochs=250, validation_data=(STest, yTest), verbose=0)\n",
        "\n",
        "TH_9_100.compile(optimizer=tf.keras.optimizers.Adam(\n",
        "    learning_rate=1e-3), loss=tf.keras.losses.MeanSquaredError())\n",
        "with tf.device('/device:GPU:0'):\n",
        "  history = TH_9_100.fit(S, y, epochs=250, validation_data=(STest, yTest), verbose=0)"
      ],
      "execution_count": null,
      "outputs": []
    },
    {
      "cell_type": "code",
      "metadata": {
        "colab": {
          "base_uri": "https://localhost:8080/"
        },
        "id": "td_9BZArG0km",
        "outputId": "3da4b1c7-8be1-4eaa-b790-001ea13f755e"
      },
      "source": [
        "errorReports(\"ReLU D3 W5\", RL_3_5, S, y, STest, yTest)\n",
        "errorReports(\"ReLU D3 W10\", RL_3_10, S, y, STest, yTest)\n",
        "errorReports(\"ReLU D3 W25\", RL_3_25, S, y, STest, yTest)\n",
        "errorReports(\"ReLU D3 W50\", RL_3_50, S, y, STest, yTest)\n",
        "errorReports(\"ReLU D3 W100\", RL_3_100, S, y, STest, yTest)\n",
        "\n",
        "errorReports(\"ReLU D5 W5\", RL_5_5, S, y, STest, yTest)\n",
        "errorReports(\"ReLU D5 W10\", RL_5_10, S, y, STest, yTest)\n",
        "errorReports(\"ReLU D5 W25\", RL_5_25, S, y, STest, yTest)\n",
        "errorReports(\"ReLU D5 W50\", RL_5_50, S, y, STest, yTest)\n",
        "errorReports(\"ReLU D5 W100\", RL_5_100, S, y, STest, yTest)\n",
        "\n",
        "errorReports(\"ReLU D9 W5\", RL_9_5, S, y, STest, yTest)\n",
        "errorReports(\"ReLU D9 W10\", RL_9_10, S, y, STest, yTest)\n",
        "errorReports(\"ReLU D9 W25\", RL_9_25, S, y, STest, yTest)\n",
        "errorReports(\"ReLU D9 W50\", RL_9_50, S, y, STest, yTest)\n",
        "errorReports(\"ReLU D9 W100\", RL_9_100, S, y, STest, yTest)\n",
        "#################################\n",
        "errorReports(\"Tanh D3 W5\", TH_3_5, S, y, STest, yTest)\n",
        "errorReports(\"Tanh D3 W10\", TH_3_10, S, y, STest, yTest)\n",
        "errorReports(\"Tanh D3 W25\", TH_3_25, S, y, STest, yTest)\n",
        "errorReports(\"Tanh D3 W50\", TH_3_50, S, y, STest, yTest)\n",
        "errorReports(\"Tanh D3 W100\", TH_3_100, S, y, STest, yTest)\n",
        "\n",
        "errorReports(\"Tanh D5 W5\", TH_5_5, S, y, STest, yTest)\n",
        "errorReports(\"Tanh D5 W10\", TH_5_10, S, y, STest, yTest)\n",
        "errorReports(\"Tanh D5 W25\", TH_5_25, S, y, STest, yTest)\n",
        "errorReports(\"Tanh D5 W50\", TH_5_50, S, y, STest, yTest)\n",
        "errorReports(\"Tanh D5 W100\", TH_5_100, S, y, STest, yTest)\n",
        "\n",
        "errorReports(\"Tanh D9 W5\", TH_9_5, S, y, STest, yTest)\n",
        "errorReports(\"Tanh D9 W10\", TH_9_10, S, y, STest, yTest)\n",
        "errorReports(\"Tanh D9 W25\", TH_9_25, S, y, STest, yTest)\n",
        "errorReports(\"Tanh D9 W50\", TH_9_50, S, y, STest, yTest)\n",
        "errorReports(\"Tanh D9 W100\", TH_9_100, S, y, STest, yTest)"
      ],
      "execution_count": null,
      "outputs": [
        {
          "output_type": "stream",
          "name": "stdout",
          "text": [
            "ReLU D3 W5 Training error: 0.0 Test error: 0.0\n",
            "ReLU D3 W10 Training error: 0.0 Test error: 0.0\n",
            "ReLU D3 W25 Training error: 0.0 Test error: 0.0\n",
            "ReLU D3 W50 Training error: 0.0 Test error: 0.0\n",
            "ReLU D3 W100 Training error: 0.0 Test error: 0.0\n",
            "ReLU D5 W5 Training error: 0.0 Test error: 0.0\n",
            "ReLU D5 W10 Training error: 0.0 Test error: 0.0\n",
            "ReLU D5 W25 Training error: 0.0 Test error: 0.0\n",
            "ReLU D5 W50 Training error: 0.0 Test error: 0.0\n",
            "ReLU D5 W100 Training error: 0.0 Test error: 0.0\n",
            "ReLU D9 W5 Training error: 0.0 Test error: 0.0\n",
            "ReLU D9 W10 Training error: 0.0 Test error: 0.0\n",
            "ReLU D9 W25 Training error: 0.0 Test error: 0.0\n",
            "ReLU D9 W50 Training error: 0.0 Test error: 0.0\n",
            "ReLU D9 W100 Training error: 0.0 Test error: 0.0\n",
            "Tanh D3 W5 Training error: 0.0011467889908256881 Test error: 0.002\n",
            "Tanh D3 W10 Training error: 0.0 Test error: 0.002\n",
            "Tanh D3 W25 Training error: 0.0 Test error: 0.002\n",
            "Tanh D3 W50 Training error: 0.0 Test error: 0.002\n",
            "Tanh D3 W100 Training error: 0.0 Test error: 0.0\n",
            "Tanh D5 W5 Training error: 0.0 Test error: 0.002\n",
            "Tanh D5 W10 Training error: 0.0 Test error: 0.002\n",
            "Tanh D5 W25 Training error: 0.0 Test error: 0.002\n",
            "Tanh D5 W50 Training error: 0.0 Test error: 0.0\n",
            "Tanh D5 W100 Training error: 0.0 Test error: 0.0\n",
            "Tanh D9 W5 Training error: 0.0 Test error: 0.004\n",
            "Tanh D9 W10 Training error: 0.0 Test error: 0.0\n",
            "Tanh D9 W25 Training error: 0.0 Test error: 0.002\n",
            "Tanh D9 W50 Training error: 0.0 Test error: 0.0\n",
            "Tanh D9 W100 Training error: 0.0 Test error: 0.0\n"
          ]
        }
      ]
    }
  ]
}